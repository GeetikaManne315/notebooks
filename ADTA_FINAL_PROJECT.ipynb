{
  "nbformat": 4,
  "nbformat_minor": 0,
  "metadata": {
    "colab": {
      "provenance": [],
      "authorship_tag": "ABX9TyNxZXjjy/M1TPDTI7GvFxUe",
      "include_colab_link": true
    },
    "kernelspec": {
      "name": "python3",
      "display_name": "Python 3"
    },
    "language_info": {
      "name": "python"
    }
  },
  "cells": [
    {
      "cell_type": "markdown",
      "metadata": {
        "id": "view-in-github",
        "colab_type": "text"
      },
      "source": [
        "<a href=\"https://colab.research.google.com/github/GeetikaManne315/notebooks/blob/main/ADTA_FINAL_PROJECT.ipynb\" target=\"_parent\"><img src=\"https://colab.research.google.com/assets/colab-badge.svg\" alt=\"Open In Colab\"/></a>"
      ]
    },
    {
      "cell_type": "code",
      "execution_count": null,
      "metadata": {
        "id": "SXc9MA-jykgS"
      },
      "outputs": [],
      "source": [
        "from bs4 import BeautifulSoup as BS\n",
        "import requests as req"
      ]
    },
    {
      "cell_type": "code",
      "source": [
        "import requests\n",
        "import csv\n",
        "\n",
        "# API endpoint\n",
        "url = \"https://www.fema.gov/api/open/v1/IndividualAssistanceHousingRegistrantsLargeDisasters\"\n",
        "\n",
        "# Send GET request to fetch JSON data\n",
        "response = requests.get(url)\n",
        "data = response.json()\n",
        "\n",
        "# Specify CSV file path\n",
        "csv_file_path = \"individual_assistance_data.csv\"\n",
        "\n",
        "# Extract column names from the first dictionary in the list\n",
        "fieldnames = data['IndividualAssistanceHousingRegistrantsLargeDisasters'][0].keys()\n",
        "\n",
        "# Write JSON data to CSV file\n",
        "with open(csv_file_path, 'w', newline='') as csvfile:\n",
        "    writer = csv.DictWriter(csvfile, fieldnames=fieldnames)\n",
        "    writer.writeheader()\n",
        "    for row in data['IndividualAssistanceHousingRegistrantsLargeDisasters']:\n",
        "        writer.writerow(row)\n",
        "\n",
        "print(\"Data has been saved to:\", csv_file_path)\n"
      ],
      "metadata": {
        "id": "6guL4YF8zGlX",
        "colab": {
          "base_uri": "https://localhost:8080/"
        },
        "outputId": "3b58fba8-851a-4852-9e11-5519f238b6ec"
      },
      "execution_count": null,
      "outputs": [
        {
          "output_type": "stream",
          "name": "stdout",
          "text": [
            "Data has been saved to: individual_assistance_data.csv\n"
          ]
        }
      ]
    }
  ]
}